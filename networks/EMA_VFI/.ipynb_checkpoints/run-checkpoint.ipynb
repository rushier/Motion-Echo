{
 "cells": [
  {
   "cell_type": "code",
   "execution_count": 1,
   "id": "57c2d3b3-15e0-4325-bb8e-1a74269ad963",
   "metadata": {
    "ExecutionIndicator": {
     "show": true
    },
    "execution": {
     "iopub.execute_input": "2023-11-23T11:33:45.110156Z",
     "iopub.status.busy": "2023-11-23T11:33:45.110018Z",
     "iopub.status.idle": "2023-11-23T11:33:45.837569Z",
     "shell.execute_reply": "2023-11-23T11:33:45.837109Z",
     "shell.execute_reply.started": "2023-11-23T11:33:45.110143Z"
    },
    "tags": []
   },
   "outputs": [],
   "source": [
    "import feature_extractor\n",
    "import torch"
   ]
  },
  {
   "cell_type": "code",
   "execution_count": 2,
   "id": "42b6acce-ca2b-47aa-8c03-4d01bb8d95b4",
   "metadata": {
    "execution": {
     "iopub.execute_input": "2023-11-23T11:33:47.028030Z",
     "iopub.status.busy": "2023-11-23T11:33:47.027653Z",
     "iopub.status.idle": "2023-11-23T11:33:52.098465Z",
     "shell.execute_reply": "2023-11-23T11:33:52.097636Z",
     "shell.execute_reply.started": "2023-11-23T11:33:47.028010Z"
    },
    "tags": []
   },
   "outputs": [],
   "source": [
    "model = feature_extractor.MotionFormer()"
   ]
  },
  {
   "cell_type": "code",
   "execution_count": 3,
   "id": "a45bae3e-861f-4635-b1c8-7c060df8f042",
   "metadata": {
    "ExecutionIndicator": {
     "show": true
    },
    "execution": {
     "iopub.execute_input": "2023-11-23T11:34:04.061053Z",
     "iopub.status.busy": "2023-11-23T11:34:04.060694Z",
     "iopub.status.idle": "2023-11-23T11:34:12.884369Z",
     "shell.execute_reply": "2023-11-23T11:34:12.883390Z",
     "shell.execute_reply.started": "2023-11-23T11:34:04.061034Z"
    },
    "tags": []
   },
   "outputs": [
    {
     "name": "stdout",
     "output_type": "stream",
     "text": [
      "overleap pathch embed torch.Size([8, 196, 256])\n"
     ]
    }
   ],
   "source": [
    "inputs = torch.randn([4,6,224,224])\n",
    "img1 = inputs[:,:3]\n",
    "img2 = inputs[:,3:6]\n",
    "af, mf = model(img1, img2)"
   ]
  },
  {
   "cell_type": "code",
   "execution_count": 5,
   "id": "8c53ce1c-4f2e-4671-9cc2-a5069a1fa123",
   "metadata": {
    "ExecutionIndicator": {
     "show": true
    },
    "execution": {
     "iopub.execute_input": "2023-11-23T11:34:29.014684Z",
     "iopub.status.busy": "2023-11-23T11:34:29.014376Z",
     "iopub.status.idle": "2023-11-23T11:34:29.017903Z",
     "shell.execute_reply": "2023-11-23T11:34:29.017477Z",
     "shell.execute_reply.started": "2023-11-23T11:34:29.014666Z"
    },
    "tags": []
   },
   "outputs": [
    {
     "name": "stdout",
     "output_type": "stream",
     "text": [
      "torch.Size([8, 16, 224, 224])\n",
      "torch.Size([8, 32, 112, 112])\n",
      "torch.Size([8, 64, 56, 56])\n",
      "torch.Size([8, 128, 28, 28])\n",
      "torch.Size([8, 256, 14, 14])\n"
     ]
    }
   ],
   "source": [
    "for i in range(len(af)):\n",
    "    print(af[i].shape)"
   ]
  },
  {
   "cell_type": "code",
   "execution_count": 1,
   "id": "9ee1f40b-0416-42a3-9cdd-85ca327d21c9",
   "metadata": {
    "ExecutionIndicator": {
     "show": true
    },
    "execution": {
     "iopub.execute_input": "2023-11-23T11:29:21.842936Z",
     "iopub.status.busy": "2023-11-23T11:29:21.842800Z",
     "iopub.status.idle": "2023-11-23T11:29:22.357007Z",
     "shell.execute_reply": "2023-11-23T11:29:22.356562Z",
     "shell.execute_reply.started": "2023-11-23T11:29:21.842921Z"
    },
    "tags": []
   },
   "outputs": [],
   "source": [
    "import sys\n",
    "sys.path.append('../')\n",
    "import unet"
   ]
  },
  {
   "cell_type": "code",
   "execution_count": 5,
   "id": "21f41fe4-7d72-4ef9-b3b0-f12746e0a76d",
   "metadata": {
    "ExecutionIndicator": {
     "show": true
    },
    "execution": {
     "iopub.execute_input": "2023-11-23T11:29:39.683090Z",
     "iopub.status.busy": "2023-11-23T11:29:39.682721Z",
     "iopub.status.idle": "2023-11-23T11:29:43.087849Z",
     "shell.execute_reply": "2023-11-23T11:29:43.087107Z",
     "shell.execute_reply.started": "2023-11-23T11:29:39.683070Z"
    },
    "tags": []
   },
   "outputs": [
    {
     "name": "stdout",
     "output_type": "stream",
     "text": [
      "torch.Size([4, 16, 224, 224])\n",
      "torch.Size([4, 32, 112, 112])\n",
      "torch.Size([4, 64, 56, 56])\n",
      "torch.Size([4, 128, 28, 28])\n",
      "torch.Size([4, 256, 14, 14])\n"
     ]
    }
   ],
   "source": [
    "model = unet.UNet(in_chns=3, class_num=4)\n",
    "inputs = torch.randn([4,3,224,224])\n",
    "output = model(inputs)"
   ]
  }
 ],
 "metadata": {
  "kernelspec": {
   "display_name": "Python 3 (ipykernel)",
   "language": "python",
   "name": "python3"
  },
  "language_info": {
   "codemirror_mode": {
    "name": "ipython",
    "version": 3
   },
   "file_extension": ".py",
   "mimetype": "text/x-python",
   "name": "python",
   "nbconvert_exporter": "python",
   "pygments_lexer": "ipython3",
   "version": "3.9.15"
  }
 },
 "nbformat": 4,
 "nbformat_minor": 5
}
