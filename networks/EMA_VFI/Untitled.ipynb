{
 "cells": [
  {
   "cell_type": "code",
   "execution_count": 1,
   "id": "322bf802-119e-44e8-bf5f-f86339cdc7f4",
   "metadata": {
    "ExecutionIndicator": {
     "show": true
    },
    "execution": {
     "iopub.execute_input": "2024-01-11T08:08:02.508217Z",
     "iopub.status.busy": "2024-01-11T08:08:02.508059Z",
     "iopub.status.idle": "2024-01-11T08:08:03.349584Z",
     "shell.execute_reply": "2024-01-11T08:08:03.348985Z",
     "shell.execute_reply.started": "2024-01-11T08:08:02.508200Z"
    },
    "tags": []
   },
   "outputs": [],
   "source": [
    "import feature_extractor\n",
    "import flow_estimation\n",
    "import torch\n",
    "from functools import partial\n",
    "import torch.nn as nn"
   ]
  },
  {
   "cell_type": "code",
   "execution_count": 2,
   "id": "c7b699e5-4a52-4693-8c70-0c54a1c9126b",
   "metadata": {
    "execution": {
     "iopub.execute_input": "2024-01-11T08:08:03.350468Z",
     "iopub.status.busy": "2024-01-11T08:08:03.350261Z",
     "iopub.status.idle": "2024-01-11T08:08:03.356437Z",
     "shell.execute_reply": "2024-01-11T08:08:03.355981Z",
     "shell.execute_reply.started": "2024-01-11T08:08:03.350453Z"
    },
    "tags": []
   },
   "outputs": [],
   "source": [
    "def init_model_config(F=32, W=7, depth=[2, 2, 2, 4, 4]):\n",
    "    '''This function should not be modified'''\n",
    "    return { \n",
    "        'embed_dims':[F, 2*F, 4*F, 8*F, 16*F],\n",
    "        'motion_dims':[0, 0, 0, 8*F//depth[-2], 16*F//depth[-1]],\n",
    "        'num_heads':[8*F//32, 16*F//32],\n",
    "        'mlp_ratios':[4, 4],\n",
    "        'qkv_bias':True,\n",
    "        'norm_layer':partial(nn.LayerNorm, eps=1e-6), \n",
    "        'depths':depth,\n",
    "        'window_sizes':[W, W]\n",
    "    }, {\n",
    "        'embed_dims':[F, 2*F, 4*F, 8*F, 16*F],\n",
    "        'motion_dims':[0, 0, 0, 8*F//depth[-2], 16*F//depth[-1]],\n",
    "        'depths':depth,\n",
    "        'num_heads':[8*F//32, 16*F//32],\n",
    "        'window_sizes':[W, W],\n",
    "        'scales':[4, 8, 16],\n",
    "        'hidden_dims':[4*F, 4*F],\n",
    "        'c':F\n",
    "    }\n",
    "\n",
    "MODEL_CONFIG = {\n",
    "    'LOGNAME': 'ours',\n",
    "    'MODEL_TYPE': (feature_extractor, flow_estimation),\n",
    "    'MODEL_ARCH': init_model_config(\n",
    "        F = 32,\n",
    "        W = 7,\n",
    "        depth = [2, 2, 2, 4, 4]\n",
    "    )\n",
    "}"
   ]
  },
  {
   "cell_type": "code",
   "execution_count": 3,
   "id": "b462a8be-6c94-4a33-90e5-eae976dfc524",
   "metadata": {
    "ExecutionIndicator": {
     "show": true
    },
    "execution": {
     "iopub.execute_input": "2024-01-11T08:08:03.357135Z",
     "iopub.status.busy": "2024-01-11T08:08:03.356979Z",
     "iopub.status.idle": "2024-01-11T08:08:23.436670Z",
     "shell.execute_reply": "2024-01-11T08:08:23.435606Z",
     "shell.execute_reply.started": "2024-01-11T08:08:03.357123Z"
    },
    "tags": []
   },
   "outputs": [
    {
     "name": "stdout",
     "output_type": "stream",
     "text": [
      "torch.Size([4, 512, 14, 14]) torch.Size([4, 512, 14, 14])\n",
      "1 torch.Size([4, 2048, 14, 14]) torch.Size([4, 6, 224, 224])\n",
      "1_ torch.Size([4, 128, 56, 56]) torch.Size([4, 6, 224, 224])\n",
      "torch.Size([4, 6, 224, 224])\n",
      "2 16 torch.Size([4, 6, 56, 56])\n",
      "3 torch.Size([4, 128, 56, 56]) torch.Size([4, 6, 56, 56])\n",
      "torch.Size([4, 256, 28, 28]) torch.Size([4, 256, 28, 28])\n",
      "1 torch.Size([4, 1024, 28, 28]) torch.Size([4, 13, 224, 224])\n",
      "1_ torch.Size([4, 64, 112, 112]) torch.Size([4, 13, 224, 224])\n",
      "torch.Size([4, 13, 224, 224])\n",
      "2 8 torch.Size([4, 13, 112, 112])\n",
      "3 torch.Size([4, 64, 112, 112]) torch.Size([4, 17, 112, 112])\n",
      "torch.Size([4, 3, 224, 224]) torch.Size([4, 3, 224, 224]) torch.Size([4, 3, 224, 224])\n"
     ]
    },
    {
     "ename": "ValueError",
     "evalue": "too many values to unpack (expected 2)",
     "output_type": "error",
     "traceback": [
      "\u001b[0;31m---------------------------------------------------------------------------\u001b[0m",
      "\u001b[0;31mValueError\u001b[0m                                Traceback (most recent call last)",
      "Cell \u001b[0;32mIn[3], line 4\u001b[0m\n\u001b[1;32m      2\u001b[0m backbonecfg, multiscalecfg \u001b[38;5;241m=\u001b[39m init_model_config(F\u001b[38;5;241m=\u001b[39m\u001b[38;5;241m32\u001b[39m, W\u001b[38;5;241m=\u001b[39m\u001b[38;5;241m7\u001b[39m, depth\u001b[38;5;241m=\u001b[39m[\u001b[38;5;241m2\u001b[39m, \u001b[38;5;241m2\u001b[39m, \u001b[38;5;241m2\u001b[39m, \u001b[38;5;241m4\u001b[39m, \u001b[38;5;241m4\u001b[39m])\n\u001b[1;32m      3\u001b[0m net \u001b[38;5;241m=\u001b[39m flow_estimation\u001b[38;5;241m.\u001b[39mMultiScaleFlow(feature_extractor\u001b[38;5;241m.\u001b[39mMotionFormer(\u001b[38;5;241m*\u001b[39m\u001b[38;5;241m*\u001b[39mbackbonecfg), \u001b[38;5;241m*\u001b[39m\u001b[38;5;241m*\u001b[39mmultiscalecfg)\u001b[38;5;241m.\u001b[39mcuda()\n\u001b[0;32m----> 4\u001b[0m flow, pred \u001b[38;5;241m=\u001b[39m net(imgs)\n\u001b[1;32m      5\u001b[0m total \u001b[38;5;241m=\u001b[39m \u001b[38;5;28msum\u001b[39m([param\u001b[38;5;241m.\u001b[39mnelement() \u001b[38;5;28;01mfor\u001b[39;00m param \u001b[38;5;129;01min\u001b[39;00m net\u001b[38;5;241m.\u001b[39mparameters()])\n\u001b[1;32m      6\u001b[0m \u001b[38;5;28mprint\u001b[39m(\u001b[38;5;124m\"\u001b[39m\u001b[38;5;124mNumber of parameters: \u001b[39m\u001b[38;5;132;01m%.2f\u001b[39;00m\u001b[38;5;124mM\u001b[39m\u001b[38;5;124m\"\u001b[39m \u001b[38;5;241m%\u001b[39m (total\u001b[38;5;241m/\u001b[39m\u001b[38;5;241m1e6\u001b[39m))\n",
      "\u001b[0;31mValueError\u001b[0m: too many values to unpack (expected 2)"
     ]
    }
   ],
   "source": [
    "imgs = torch.randn(8,3,224,224).cuda()\n",
    "backbonecfg, multiscalecfg = init_model_config(F=32, W=7, depth=[2, 2, 2, 4, 4])\n",
    "net = flow_estimation.MultiScaleFlow(feature_extractor.MotionFormer(**backbonecfg), **multiscalecfg).cuda()\n",
    "flow, pred = net(imgs)\n",
    "total = sum([param.nelement() for param in net.parameters()])\n",
    "print(\"Number of parameters: %.2fM\" % (total/1e6))"
   ]
  }
 ],
 "metadata": {
  "kernelspec": {
   "display_name": "Python 3 (ipykernel)",
   "language": "python",
   "name": "python3"
  },
  "language_info": {
   "codemirror_mode": {
    "name": "ipython",
    "version": 3
   },
   "file_extension": ".py",
   "mimetype": "text/x-python",
   "name": "python",
   "nbconvert_exporter": "python",
   "pygments_lexer": "ipython3",
   "version": "3.9.15"
  }
 },
 "nbformat": 4,
 "nbformat_minor": 5
}
